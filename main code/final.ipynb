{
 "cells": [
  {
   "cell_type": "markdown",
   "metadata": {},
   "source": [
    "# Creating and Saving the Model"
   ]
  },
  {
   "cell_type": "code",
   "execution_count": 1,
   "metadata": {},
   "outputs": [],
   "source": [
    "import numpy as np\n",
    "import pandas as pd"
   ]
  },
  {
   "cell_type": "code",
   "execution_count": 2,
   "metadata": {},
   "outputs": [],
   "source": [
    "dataset = pd.read_csv(r\"C:\\Users\\Agath\\Desktop\\CCPP\\dataset.csv\")"
   ]
  },
  {
   "cell_type": "code",
   "execution_count": 3,
   "metadata": {},
   "outputs": [
    {
     "data": {
      "text/html": [
       "<div>\n",
       "<style scoped>\n",
       "    .dataframe tbody tr th:only-of-type {\n",
       "        vertical-align: middle;\n",
       "    }\n",
       "\n",
       "    .dataframe tbody tr th {\n",
       "        vertical-align: top;\n",
       "    }\n",
       "\n",
       "    .dataframe thead th {\n",
       "        text-align: right;\n",
       "    }\n",
       "</style>\n",
       "<table border=\"1\" class=\"dataframe\">\n",
       "  <thead>\n",
       "    <tr style=\"text-align: right;\">\n",
       "      <th></th>\n",
       "      <th>AT</th>\n",
       "      <th>V</th>\n",
       "      <th>AP</th>\n",
       "      <th>RH</th>\n",
       "      <th>PE</th>\n",
       "    </tr>\n",
       "  </thead>\n",
       "  <tbody>\n",
       "    <tr>\n",
       "      <th>0</th>\n",
       "      <td>14.96</td>\n",
       "      <td>41.76</td>\n",
       "      <td>1024.07</td>\n",
       "      <td>73.17</td>\n",
       "      <td>463.26</td>\n",
       "    </tr>\n",
       "    <tr>\n",
       "      <th>1</th>\n",
       "      <td>25.18</td>\n",
       "      <td>62.96</td>\n",
       "      <td>1020.04</td>\n",
       "      <td>59.08</td>\n",
       "      <td>444.37</td>\n",
       "    </tr>\n",
       "    <tr>\n",
       "      <th>2</th>\n",
       "      <td>5.11</td>\n",
       "      <td>39.40</td>\n",
       "      <td>1012.16</td>\n",
       "      <td>92.14</td>\n",
       "      <td>488.56</td>\n",
       "    </tr>\n",
       "    <tr>\n",
       "      <th>3</th>\n",
       "      <td>20.86</td>\n",
       "      <td>57.32</td>\n",
       "      <td>1010.24</td>\n",
       "      <td>76.64</td>\n",
       "      <td>446.48</td>\n",
       "    </tr>\n",
       "    <tr>\n",
       "      <th>4</th>\n",
       "      <td>10.82</td>\n",
       "      <td>37.50</td>\n",
       "      <td>1009.23</td>\n",
       "      <td>96.62</td>\n",
       "      <td>473.90</td>\n",
       "    </tr>\n",
       "  </tbody>\n",
       "</table>\n",
       "</div>"
      ],
      "text/plain": [
       "      AT      V       AP     RH      PE\n",
       "0  14.96  41.76  1024.07  73.17  463.26\n",
       "1  25.18  62.96  1020.04  59.08  444.37\n",
       "2   5.11  39.40  1012.16  92.14  488.56\n",
       "3  20.86  57.32  1010.24  76.64  446.48\n",
       "4  10.82  37.50  1009.23  96.62  473.90"
      ]
     },
     "execution_count": 3,
     "metadata": {},
     "output_type": "execute_result"
    }
   ],
   "source": [
    "dataset.head()"
   ]
  },
  {
   "cell_type": "code",
   "execution_count": 4,
   "metadata": {},
   "outputs": [
    {
     "data": {
      "text/plain": [
       "AT    False\n",
       "V     False\n",
       "AP    False\n",
       "RH    False\n",
       "PE    False\n",
       "dtype: bool"
      ]
     },
     "execution_count": 4,
     "metadata": {},
     "output_type": "execute_result"
    }
   ],
   "source": [
    "dataset.isnull().any()"
   ]
  },
  {
   "cell_type": "code",
   "execution_count": 5,
   "metadata": {},
   "outputs": [],
   "source": [
    "x = dataset.iloc[:,0:4].values\n",
    "y = dataset.iloc[:,4:5].values"
   ]
  },
  {
   "cell_type": "code",
   "execution_count": 6,
   "metadata": {},
   "outputs": [
    {
     "data": {
      "text/plain": [
       "(47840, 4)"
      ]
     },
     "execution_count": 6,
     "metadata": {},
     "output_type": "execute_result"
    }
   ],
   "source": [
    "x.shape"
   ]
  },
  {
   "cell_type": "code",
   "execution_count": 7,
   "metadata": {},
   "outputs": [
    {
     "data": {
      "text/plain": [
       "(47840, 1)"
      ]
     },
     "execution_count": 7,
     "metadata": {},
     "output_type": "execute_result"
    }
   ],
   "source": [
    "y.shape"
   ]
  },
  {
   "cell_type": "code",
   "execution_count": 8,
   "metadata": {},
   "outputs": [
    {
     "data": {
      "text/plain": [
       "(47840, 4)"
      ]
     },
     "execution_count": 8,
     "metadata": {},
     "output_type": "execute_result"
    }
   ],
   "source": [
    "x.shape"
   ]
  },
  {
   "cell_type": "code",
   "execution_count": 9,
   "metadata": {},
   "outputs": [],
   "source": [
    "from sklearn.model_selection import train_test_split\n",
    "x_train,x_test,y_train,y_test = train_test_split(x,y,test_size = 0.2, random_state =0)"
   ]
  },
  {
   "cell_type": "code",
   "execution_count": 10,
   "metadata": {},
   "outputs": [
    {
     "data": {
      "text/plain": [
       "(38272, 4)"
      ]
     },
     "execution_count": 10,
     "metadata": {},
     "output_type": "execute_result"
    }
   ],
   "source": [
    "x_train.shape"
   ]
  },
  {
   "cell_type": "code",
   "execution_count": 11,
   "metadata": {},
   "outputs": [
    {
     "data": {
      "text/plain": [
       "LinearRegression(copy_X=True, fit_intercept=True, n_jobs=None, normalize=False)"
      ]
     },
     "execution_count": 11,
     "metadata": {},
     "output_type": "execute_result"
    }
   ],
   "source": [
    "from sklearn.linear_model import LinearRegression\n",
    "mlr  = LinearRegression()\n",
    "mlr.fit(x_train,y_train)"
   ]
  },
  {
   "cell_type": "code",
   "execution_count": 12,
   "metadata": {},
   "outputs": [],
   "source": [
    "y_pred = mlr.predict(x_test)"
   ]
  },
  {
   "cell_type": "code",
   "execution_count": 13,
   "metadata": {},
   "outputs": [
    {
     "data": {
      "text/plain": [
       "array([[  29.7 ,   57.19, 1008.41,   55.07],\n",
       "       [  23.27,   64.69, 1006.84,   70.53],\n",
       "       [  11.44,   44.2 , 1018.14,   84.9 ],\n",
       "       ...,\n",
       "       [  16.  ,   43.34, 1013.58,   78.87],\n",
       "       [   5.15,   40.78, 1025.34,   95.84],\n",
       "       [  16.77,   42.28, 1007.53,   73.19]])"
      ]
     },
     "execution_count": 13,
     "metadata": {},
     "output_type": "execute_result"
    }
   ],
   "source": [
    "x_test"
   ]
  },
  {
   "cell_type": "code",
   "execution_count": 14,
   "metadata": {},
   "outputs": [
    {
     "data": {
      "text/plain": [
       "array([[436.29],\n",
       "       [438.08],\n",
       "       [476.12],\n",
       "       ...,\n",
       "       [461.7 ],\n",
       "       [483.03],\n",
       "       [465.52]])"
      ]
     },
     "execution_count": 14,
     "metadata": {},
     "output_type": "execute_result"
    }
   ],
   "source": [
    "y_test"
   ]
  },
  {
   "cell_type": "code",
   "execution_count": 15,
   "metadata": {},
   "outputs": [
    {
     "data": {
      "text/plain": [
       "array([[436.39329725],\n",
       "       [444.80652228],\n",
       "       [471.4625261 ],\n",
       "       ...,\n",
       "       [463.31280148],\n",
       "       [483.43344779],\n",
       "       [462.55077955]])"
      ]
     },
     "execution_count": 15,
     "metadata": {},
     "output_type": "execute_result"
    }
   ],
   "source": [
    "y_pred"
   ]
  },
  {
   "cell_type": "code",
   "execution_count": 16,
   "metadata": {},
   "outputs": [],
   "source": [
    "from sklearn.metrics import r2_score\n",
    "accuracy = r2_score(y_test,y_pred)"
   ]
  },
  {
   "cell_type": "code",
   "execution_count": 17,
   "metadata": {},
   "outputs": [
    {
     "data": {
      "text/plain": [
       "0.9294606737992249"
      ]
     },
     "execution_count": 17,
     "metadata": {},
     "output_type": "execute_result"
    }
   ],
   "source": [
    "accuracy"
   ]
  },
  {
   "cell_type": "code",
   "execution_count": 18,
   "metadata": {},
   "outputs": [
    {
     "name": "stderr",
     "output_type": "stream",
     "text": [
      "Using TensorFlow backend.\n",
      "C:\\Users\\Agath\\anaconda3\\lib\\site-packages\\tensorflow\\python\\framework\\dtypes.py:516: FutureWarning: Passing (type, 1) or '1type' as a synonym of type is deprecated; in a future version of numpy, it will be understood as (type, (1,)) / '(1,)type'.\n",
      "  _np_qint8 = np.dtype([(\"qint8\", np.int8, 1)])\n",
      "C:\\Users\\Agath\\anaconda3\\lib\\site-packages\\tensorflow\\python\\framework\\dtypes.py:517: FutureWarning: Passing (type, 1) or '1type' as a synonym of type is deprecated; in a future version of numpy, it will be understood as (type, (1,)) / '(1,)type'.\n",
      "  _np_quint8 = np.dtype([(\"quint8\", np.uint8, 1)])\n",
      "C:\\Users\\Agath\\anaconda3\\lib\\site-packages\\tensorflow\\python\\framework\\dtypes.py:518: FutureWarning: Passing (type, 1) or '1type' as a synonym of type is deprecated; in a future version of numpy, it will be understood as (type, (1,)) / '(1,)type'.\n",
      "  _np_qint16 = np.dtype([(\"qint16\", np.int16, 1)])\n",
      "C:\\Users\\Agath\\anaconda3\\lib\\site-packages\\tensorflow\\python\\framework\\dtypes.py:519: FutureWarning: Passing (type, 1) or '1type' as a synonym of type is deprecated; in a future version of numpy, it will be understood as (type, (1,)) / '(1,)type'.\n",
      "  _np_quint16 = np.dtype([(\"quint16\", np.uint16, 1)])\n",
      "C:\\Users\\Agath\\anaconda3\\lib\\site-packages\\tensorflow\\python\\framework\\dtypes.py:520: FutureWarning: Passing (type, 1) or '1type' as a synonym of type is deprecated; in a future version of numpy, it will be understood as (type, (1,)) / '(1,)type'.\n",
      "  _np_qint32 = np.dtype([(\"qint32\", np.int32, 1)])\n",
      "C:\\Users\\Agath\\anaconda3\\lib\\site-packages\\tensorflow\\python\\framework\\dtypes.py:525: FutureWarning: Passing (type, 1) or '1type' as a synonym of type is deprecated; in a future version of numpy, it will be understood as (type, (1,)) / '(1,)type'.\n",
      "  np_resource = np.dtype([(\"resource\", np.ubyte, 1)])\n",
      "C:\\Users\\Agath\\anaconda3\\lib\\site-packages\\tensorboard\\compat\\tensorflow_stub\\dtypes.py:541: FutureWarning: Passing (type, 1) or '1type' as a synonym of type is deprecated; in a future version of numpy, it will be understood as (type, (1,)) / '(1,)type'.\n",
      "  _np_qint8 = np.dtype([(\"qint8\", np.int8, 1)])\n",
      "C:\\Users\\Agath\\anaconda3\\lib\\site-packages\\tensorboard\\compat\\tensorflow_stub\\dtypes.py:542: FutureWarning: Passing (type, 1) or '1type' as a synonym of type is deprecated; in a future version of numpy, it will be understood as (type, (1,)) / '(1,)type'.\n",
      "  _np_quint8 = np.dtype([(\"quint8\", np.uint8, 1)])\n",
      "C:\\Users\\Agath\\anaconda3\\lib\\site-packages\\tensorboard\\compat\\tensorflow_stub\\dtypes.py:543: FutureWarning: Passing (type, 1) or '1type' as a synonym of type is deprecated; in a future version of numpy, it will be understood as (type, (1,)) / '(1,)type'.\n",
      "  _np_qint16 = np.dtype([(\"qint16\", np.int16, 1)])\n",
      "C:\\Users\\Agath\\anaconda3\\lib\\site-packages\\tensorboard\\compat\\tensorflow_stub\\dtypes.py:544: FutureWarning: Passing (type, 1) or '1type' as a synonym of type is deprecated; in a future version of numpy, it will be understood as (type, (1,)) / '(1,)type'.\n",
      "  _np_quint16 = np.dtype([(\"quint16\", np.uint16, 1)])\n",
      "C:\\Users\\Agath\\anaconda3\\lib\\site-packages\\tensorboard\\compat\\tensorflow_stub\\dtypes.py:545: FutureWarning: Passing (type, 1) or '1type' as a synonym of type is deprecated; in a future version of numpy, it will be understood as (type, (1,)) / '(1,)type'.\n",
      "  _np_qint32 = np.dtype([(\"qint32\", np.int32, 1)])\n",
      "C:\\Users\\Agath\\anaconda3\\lib\\site-packages\\tensorboard\\compat\\tensorflow_stub\\dtypes.py:550: FutureWarning: Passing (type, 1) or '1type' as a synonym of type is deprecated; in a future version of numpy, it will be understood as (type, (1,)) / '(1,)type'.\n",
      "  np_resource = np.dtype([(\"resource\", np.ubyte, 1)])\n"
     ]
    }
   ],
   "source": [
    "import keras\n",
    "from keras.models import Sequential\n",
    "from keras.layers import Dense"
   ]
  },
  {
   "cell_type": "code",
   "execution_count": 19,
   "metadata": {},
   "outputs": [
    {
     "name": "stdout",
     "output_type": "stream",
     "text": [
      "WARNING:tensorflow:From C:\\Users\\Agath\\anaconda3\\lib\\site-packages\\keras\\backend\\tensorflow_backend.py:74: The name tf.get_default_graph is deprecated. Please use tf.compat.v1.get_default_graph instead.\n",
      "\n"
     ]
    }
   ],
   "source": [
    "regressor = Sequential()"
   ]
  },
  {
   "cell_type": "code",
   "execution_count": 20,
   "metadata": {},
   "outputs": [
    {
     "data": {
      "text/plain": [
       "(38272, 4)"
      ]
     },
     "execution_count": 20,
     "metadata": {},
     "output_type": "execute_result"
    }
   ],
   "source": [
    "x_train.shape"
   ]
  },
  {
   "cell_type": "code",
   "execution_count": 21,
   "metadata": {},
   "outputs": [
    {
     "name": "stderr",
     "output_type": "stream",
     "text": [
      "C:\\Users\\Agath\\anaconda3\\lib\\site-packages\\ipykernel_launcher.py:1: UserWarning: Update your `Dense` call to the Keras 2 API: `Dense(units=4, activation=\"relu\", kernel_initializer=\"random_uniform\")`\n",
      "  \"\"\"Entry point for launching an IPython kernel.\n"
     ]
    }
   ],
   "source": [
    "regressor.add(Dense(units = 4,init = 'random_uniform',activation = 'relu'))"
   ]
  },
  {
   "cell_type": "code",
   "execution_count": 22,
   "metadata": {},
   "outputs": [
    {
     "name": "stderr",
     "output_type": "stream",
     "text": [
      "C:\\Users\\Agath\\anaconda3\\lib\\site-packages\\ipykernel_launcher.py:1: UserWarning: Update your `Dense` call to the Keras 2 API: `Dense(units=8, activation=\"relu\", kernel_initializer=\"random_uniform\")`\n",
      "  \"\"\"Entry point for launching an IPython kernel.\n"
     ]
    }
   ],
   "source": [
    "regressor.add(Dense(units = 8,init = 'random_uniform',activation = 'relu'))"
   ]
  },
  {
   "cell_type": "code",
   "execution_count": 23,
   "metadata": {},
   "outputs": [
    {
     "name": "stderr",
     "output_type": "stream",
     "text": [
      "C:\\Users\\Agath\\anaconda3\\lib\\site-packages\\ipykernel_launcher.py:1: UserWarning: Update your `Dense` call to the Keras 2 API: `Dense(units=1, kernel_initializer=\"random_uniform\")`\n",
      "  \"\"\"Entry point for launching an IPython kernel.\n"
     ]
    }
   ],
   "source": [
    "regressor.add(Dense(units = 1,init = 'random_uniform'))"
   ]
  },
  {
   "cell_type": "code",
   "execution_count": 24,
   "metadata": {},
   "outputs": [
    {
     "name": "stdout",
     "output_type": "stream",
     "text": [
      "WARNING:tensorflow:From C:\\Users\\Agath\\anaconda3\\lib\\site-packages\\keras\\optimizers.py:790: The name tf.train.Optimizer is deprecated. Please use tf.compat.v1.train.Optimizer instead.\n",
      "\n"
     ]
    }
   ],
   "source": [
    "regressor.compile (optimizer = 'adam',loss = 'mse',metrics = ['mse'])"
   ]
  },
  {
   "cell_type": "code",
   "execution_count": 25,
   "metadata": {},
   "outputs": [
    {
     "name": "stdout",
     "output_type": "stream",
     "text": [
      "WARNING:tensorflow:From C:\\Users\\Agath\\anaconda3\\lib\\site-packages\\keras\\backend\\tensorflow_backend.py:517: The name tf.placeholder is deprecated. Please use tf.compat.v1.placeholder instead.\n",
      "\n",
      "WARNING:tensorflow:From C:\\Users\\Agath\\anaconda3\\lib\\site-packages\\keras\\backend\\tensorflow_backend.py:4138: The name tf.random_uniform is deprecated. Please use tf.random.uniform instead.\n",
      "\n",
      "WARNING:tensorflow:From C:\\Users\\Agath\\anaconda3\\lib\\site-packages\\keras\\backend\\tensorflow_backend.py:986: The name tf.assign_add is deprecated. Please use tf.compat.v1.assign_add instead.\n",
      "\n",
      "WARNING:tensorflow:From C:\\Users\\Agath\\anaconda3\\lib\\site-packages\\keras\\backend\\tensorflow_backend.py:973: The name tf.assign is deprecated. Please use tf.compat.v1.assign instead.\n",
      "\n",
      "Epoch 1/100\n",
      "38272/38272 [==============================] - 2s 43us/step - loss: 16819.9603 - mean_squared_error: 16819.9603\n",
      "Epoch 2/100\n",
      "38272/38272 [==============================] - 1s 35us/step - loss: 193.5684 - mean_squared_error: 193.5684 1s -\n",
      "Epoch 3/100\n",
      "38272/38272 [==============================] - 1s 36us/step - loss: 66.9279 - mean_squared_error: 66.9279\n",
      "Epoch 4/100\n",
      "38272/38272 [==============================] - 1s 35us/step - loss: 33.7032 - mean_squared_error: 33.7032 0s - loss: 34.9232 - mean_square\n",
      "Epoch 5/100\n",
      "38272/38272 [==============================] - 1s 35us/step - loss: 28.8809 - mean_squared_error: 28.8809\n",
      "Epoch 6/100\n",
      "38272/38272 [==============================] - 1s 35us/step - loss: 27.8158 - mean_squared_error: 27.8158\n",
      "Epoch 7/100\n",
      "38272/38272 [==============================] - 1s 37us/step - loss: 27.1938 - mean_squared_error: 27.1938 1s - loss: 28.4193 - mean_squared_error: 28.41 - ETA: \n",
      "Epoch 8/100\n",
      "38272/38272 [==============================] - 1s 35us/step - loss: 27.1760 - mean_squared_error: 27.1760\n",
      "Epoch 9/100\n",
      "38272/38272 [==============================] - 1s 35us/step - loss: 27.1801 - mean_squared_error: 27.1801\n",
      "Epoch 10/100\n",
      "38272/38272 [==============================] - 1s 35us/step - loss: 26.9406 - mean_squared_error: 26.9406\n",
      "Epoch 11/100\n",
      "38272/38272 [==============================] - ETA: 0s - loss: 26.9155 - mean_squared_error: 26.91 - 2s 40us/step - loss: 26.9932 - mean_squared_error: 26.9932\n",
      "Epoch 12/100\n",
      "38272/38272 [==============================] - 1s 37us/step - loss: 26.8857 - mean_squared_error: 26.8857\n",
      "Epoch 13/100\n",
      "38272/38272 [==============================] - 1s 36us/step - loss: 26.9839 - mean_squared_error: 26.9839\n",
      "Epoch 14/100\n",
      "38272/38272 [==============================] - 1s 35us/step - loss: 27.0634 - mean_squared_error: 27.0634\n",
      "Epoch 15/100\n",
      "38272/38272 [==============================] - ETA: 0s - loss: 26.9524 - mean_squared_error: 26.95 - 1s 35us/step - loss: 26.9026 - mean_squared_error: 26.9026\n",
      "Epoch 16/100\n",
      "38272/38272 [==============================] - 1s 35us/step - loss: 26.9046 - mean_squared_error: 26.9046 1s - loss:\n",
      "Epoch 17/100\n",
      "38272/38272 [==============================] - 1s 35us/step - loss: 27.0079 - mean_squared_error: 27.0079\n",
      "Epoch 18/100\n",
      "38272/38272 [==============================] - 1s 37us/step - loss: 26.9943 - mean_squared_error: 26.9943\n",
      "Epoch 19/100\n",
      "38272/38272 [==============================] - 1s 39us/step - loss: 26.9351 - mean_squared_error: 26.9351\n",
      "Epoch 20/100\n",
      "38272/38272 [==============================] - 1s 38us/step - loss: 27.1115 - mean_squared_error: 27.1115\n",
      "Epoch 21/100\n",
      "38272/38272 [==============================] - 1s 39us/step - loss: 27.0422 - mean_squared_error: 27.0422\n",
      "Epoch 22/100\n",
      "38272/38272 [==============================] - 1s 38us/step - loss: 26.8262 - mean_squared_error: 26.8262\n",
      "Epoch 23/100\n",
      "38272/38272 [==============================] - 2s 40us/step - loss: 26.9602 - mean_squared_error: 26.9602\n",
      "Epoch 24/100\n",
      "38272/38272 [==============================] - 1s 38us/step - loss: 26.9704 - mean_squared_error: 26.9704\n",
      "Epoch 25/100\n",
      "38272/38272 [==============================] - 1s 39us/step - loss: 27.1159 - mean_squared_error: 27.1159\n",
      "Epoch 26/100\n",
      "38272/38272 [==============================] - 1s 39us/step - loss: 26.7561 - mean_squared_error: 26.7561\n",
      "Epoch 27/100\n",
      "38272/38272 [==============================] - 2s 40us/step - loss: 27.0985 - mean_squared_error: 27.0985\n",
      "Epoch 28/100\n",
      "38272/38272 [==============================] - 1s 39us/step - loss: 26.9029 - mean_squared_error: 26.9029\n",
      "Epoch 29/100\n",
      "38272/38272 [==============================] - 1s 38us/step - loss: 26.7869 - mean_squared_error: 26.7869\n",
      "Epoch 30/100\n",
      "38272/38272 [==============================] - 1s 39us/step - loss: 26.8566 - mean_squared_error: 26.8566\n",
      "Epoch 31/100\n",
      "38272/38272 [==============================] - 1s 39us/step - loss: 27.2328 - mean_squared_error: 27.2328\n",
      "Epoch 32/100\n",
      "38272/38272 [==============================] - 2s 40us/step - loss: 27.0507 - mean_squared_error: 27.0507\n",
      "Epoch 33/100\n",
      "38272/38272 [==============================] - 1s 39us/step - loss: 26.9157 - mean_squared_error: 26.9157\n",
      "Epoch 34/100\n",
      "38272/38272 [==============================] - 2s 41us/step - loss: 26.9849 - mean_squared_error: 26.9849\n",
      "Epoch 35/100\n",
      "38272/38272 [==============================] - 1s 38us/step - loss: 27.2320 - mean_squared_error: 27.2320\n",
      "Epoch 36/100\n",
      "38272/38272 [==============================] - 1s 38us/step - loss: 27.0789 - mean_squared_error: 27.0789\n",
      "Epoch 37/100\n",
      "38272/38272 [==============================] - 1s 39us/step - loss: 26.7879 - mean_squared_error: 26.7879\n",
      "Epoch 38/100\n",
      "38272/38272 [==============================] - 1s 39us/step - loss: 27.0510 - mean_squared_error: 27.0510\n",
      "Epoch 39/100\n",
      "38272/38272 [==============================] - 1s 39us/step - loss: 26.9987 - mean_squared_error: 26.9987\n",
      "Epoch 40/100\n",
      "38272/38272 [==============================] - 1s 39us/step - loss: 26.8367 - mean_squared_error: 26.8367\n",
      "Epoch 41/100\n",
      "38272/38272 [==============================] - 1s 39us/step - loss: 27.0136 - mean_squared_error: 27.0136\n",
      "Epoch 42/100\n",
      "38272/38272 [==============================] - 1s 39us/step - loss: 26.9965 - mean_squared_error: 26.9965\n",
      "Epoch 43/100\n",
      "38272/38272 [==============================] - 2s 39us/step - loss: 27.0266 - mean_squared_error: 27.0266\n",
      "Epoch 44/100\n",
      "38272/38272 [==============================] - 2s 39us/step - loss: 26.9822 - mean_squared_error: 26.9822\n",
      "Epoch 45/100\n",
      "38272/38272 [==============================] - 2s 39us/step - loss: 26.9584 - mean_squared_error: 26.9584\n",
      "Epoch 46/100\n",
      "38272/38272 [==============================] - 1s 39us/step - loss: 26.7962 - mean_squared_error: 26.7962\n",
      "Epoch 47/100\n",
      "38272/38272 [==============================] - 1s 38us/step - loss: 26.8399 - mean_squared_error: 26.8399\n",
      "Epoch 48/100\n",
      "38272/38272 [==============================] - 1s 38us/step - loss: 27.0841 - mean_squared_error: 27.0841\n",
      "Epoch 49/100\n",
      "38272/38272 [==============================] - 1s 39us/step - loss: 26.8981 - mean_squared_error: 26.8981\n",
      "Epoch 50/100\n",
      "38272/38272 [==============================] - 1s 38us/step - loss: 26.8957 - mean_squared_error: 26.8957\n",
      "Epoch 51/100\n",
      "38272/38272 [==============================] - 1s 38us/step - loss: 26.8558 - mean_squared_error: 26.8558\n",
      "Epoch 52/100\n",
      "38272/38272 [==============================] - 1s 38us/step - loss: 27.0200 - mean_squared_error: 27.0200\n",
      "Epoch 53/100\n",
      "38272/38272 [==============================] - 1s 38us/step - loss: 26.8027 - mean_squared_error: 26.8027\n",
      "Epoch 54/100\n",
      "38272/38272 [==============================] - 1s 38us/step - loss: 26.8261 - mean_squared_error: 26.8261\n",
      "Epoch 55/100\n",
      "38272/38272 [==============================] - 1s 38us/step - loss: 26.8630 - mean_squared_error: 26.8630\n",
      "Epoch 56/100\n",
      "38272/38272 [==============================] - 1s 38us/step - loss: 27.0615 - mean_squared_error: 27.0615\n",
      "Epoch 57/100\n",
      "38272/38272 [==============================] - 1s 38us/step - loss: 27.0052 - mean_squared_error: 27.0052\n",
      "Epoch 58/100\n",
      "38272/38272 [==============================] - 1s 39us/step - loss: 26.8475 - mean_squared_error: 26.8475\n",
      "Epoch 59/100\n",
      "38272/38272 [==============================] - 2s 40us/step - loss: 26.9036 - mean_squared_error: 26.9036\n",
      "Epoch 60/100\n",
      "38272/38272 [==============================] - 1s 38us/step - loss: 26.7735 - mean_squared_error: 26.7735\n",
      "Epoch 61/100\n",
      "38272/38272 [==============================] - 1s 38us/step - loss: 26.9513 - mean_squared_error: 26.9513\n",
      "Epoch 62/100\n",
      "38272/38272 [==============================] - 1s 38us/step - loss: 27.1404 - mean_squared_error: 27.1404\n",
      "Epoch 63/100\n",
      "38272/38272 [==============================] - 1s 38us/step - loss: 26.7257 - mean_squared_error: 26.7257\n",
      "Epoch 64/100\n",
      "38272/38272 [==============================] - 1s 38us/step - loss: 27.0367 - mean_squared_error: 27.0367\n",
      "Epoch 65/100\n",
      "38272/38272 [==============================] - 1s 38us/step - loss: 26.7984 - mean_squared_error: 26.7984\n",
      "Epoch 66/100\n",
      "38272/38272 [==============================] - 1s 38us/step - loss: 26.7799 - mean_squared_error: 26.7799\n",
      "Epoch 67/100\n",
      "38272/38272 [==============================] - 1s 38us/step - loss: 27.0565 - mean_squared_error: 27.0565\n",
      "Epoch 68/100\n",
      "38272/38272 [==============================] - 1s 38us/step - loss: 26.7932 - mean_squared_error: 26.7932\n",
      "Epoch 69/100\n",
      "38272/38272 [==============================] - 1s 38us/step - loss: 27.0482 - mean_squared_error: 27.0482\n",
      "Epoch 70/100\n",
      "38272/38272 [==============================] - 1s 38us/step - loss: 26.9659 - mean_squared_error: 26.9659\n",
      "Epoch 71/100\n",
      "38272/38272 [==============================] - 1s 38us/step - loss: 26.8723 - mean_squared_error: 26.8723\n",
      "Epoch 72/100\n",
      "38272/38272 [==============================] - 1s 38us/step - loss: 26.8220 - mean_squared_error: 26.8220\n",
      "Epoch 73/100\n",
      "38272/38272 [==============================] - 1s 39us/step - loss: 27.1264 - mean_squared_error: 27.1264\n",
      "Epoch 74/100\n",
      "38272/38272 [==============================] - 1s 38us/step - loss: 27.1405 - mean_squared_error: 27.1405\n",
      "Epoch 75/100\n",
      "38272/38272 [==============================] - 1s 38us/step - loss: 26.8388 - mean_squared_error: 26.8388\n",
      "Epoch 76/100\n",
      "38272/38272 [==============================] - 1s 38us/step - loss: 26.9917 - mean_squared_error: 26.9917\n",
      "Epoch 77/100\n",
      "38272/38272 [==============================] - 1s 38us/step - loss: 26.7636 - mean_squared_error: 26.7636\n",
      "Epoch 78/100\n",
      "38272/38272 [==============================] - 1s 38us/step - loss: 27.0233 - mean_squared_error: 27.0233\n",
      "Epoch 79/100\n",
      "38272/38272 [==============================] - 1s 38us/step - loss: 26.8066 - mean_squared_error: 26.8066\n",
      "Epoch 80/100\n",
      "38272/38272 [==============================] - 1s 38us/step - loss: 26.9240 - mean_squared_error: 26.9240\n",
      "Epoch 81/100\n",
      "38272/38272 [==============================] - 1s 38us/step - loss: 27.1087 - mean_squared_error: 27.1087\n",
      "Epoch 82/100\n",
      "38272/38272 [==============================] - 1s 38us/step - loss: 26.8823 - mean_squared_error: 26.8823\n",
      "Epoch 83/100\n",
      "38272/38272 [==============================] - 1s 38us/step - loss: 26.9489 - mean_squared_error: 26.9489\n",
      "Epoch 84/100\n",
      "38272/38272 [==============================] - 1s 39us/step - loss: 26.9641 - mean_squared_error: 26.9641\n",
      "Epoch 85/100\n",
      "38272/38272 [==============================] - 1s 38us/step - loss: 26.9220 - mean_squared_error: 26.9220\n",
      "Epoch 86/100\n",
      "38272/38272 [==============================] - 1s 39us/step - loss: 26.8881 - mean_squared_error: 26.8881\n",
      "Epoch 87/100\n",
      "38272/38272 [==============================] - 2s 39us/step - loss: 26.9396 - mean_squared_error: 26.9396\n",
      "Epoch 88/100\n",
      "38272/38272 [==============================] - 1s 39us/step - loss: 26.7886 - mean_squared_error: 26.7886\n",
      "Epoch 89/100\n",
      "38272/38272 [==============================] - 1s 39us/step - loss: 26.9244 - mean_squared_error: 26.9244\n",
      "Epoch 90/100\n",
      "38272/38272 [==============================] - 1s 39us/step - loss: 26.8065 - mean_squared_error: 26.8065\n",
      "Epoch 91/100\n",
      "38272/38272 [==============================] - 2s 39us/step - loss: 26.8443 - mean_squared_error: 26.8443\n",
      "Epoch 92/100\n",
      "38272/38272 [==============================] - 1s 38us/step - loss: 26.9441 - mean_squared_error: 26.9441\n",
      "Epoch 93/100\n",
      "38272/38272 [==============================] - 1s 39us/step - loss: 26.9852 - mean_squared_error: 26.9852\n",
      "Epoch 94/100\n",
      "38272/38272 [==============================] - 1s 39us/step - loss: 26.6790 - mean_squared_error: 26.6790\n",
      "Epoch 95/100\n",
      "38272/38272 [==============================] - 2s 42us/step - loss: 26.7844 - mean_squared_error: 26.7844\n",
      "Epoch 96/100\n",
      "38272/38272 [==============================] - 1s 39us/step - loss: 26.8832 - mean_squared_error: 26.8832\n",
      "Epoch 97/100\n",
      "38272/38272 [==============================] - 2s 41us/step - loss: 26.7629 - mean_squared_error: 26.7629\n",
      "Epoch 98/100\n",
      "38272/38272 [==============================] - 2s 39us/step - loss: 26.7126 - mean_squared_error: 26.7126\n",
      "Epoch 99/100\n",
      "38272/38272 [==============================] - 2s 39us/step - loss: 27.0623 - mean_squared_error: 27.0623\n",
      "Epoch 100/100\n",
      "38272/38272 [==============================] - 2s 40us/step - loss: 27.0275 - mean_squared_error: 27.0275\n"
     ]
    },
    {
     "data": {
      "text/plain": [
       "<keras.callbacks.History at 0x1bac6854fc8>"
      ]
     },
     "execution_count": 25,
     "metadata": {},
     "output_type": "execute_result"
    }
   ],
   "source": [
    "regressor.fit(x_train,y_train , batch_size = 20,epochs =100)"
   ]
  },
  {
   "cell_type": "code",
   "execution_count": 26,
   "metadata": {},
   "outputs": [],
   "source": [
    "y_pred1 = regressor.predict(x_test)"
   ]
  },
  {
   "cell_type": "code",
   "execution_count": 27,
   "metadata": {},
   "outputs": [
    {
     "data": {
      "text/plain": [
       "array([[436.29],\n",
       "       [438.08],\n",
       "       [476.12],\n",
       "       ...,\n",
       "       [461.7 ],\n",
       "       [483.03],\n",
       "       [465.52]])"
      ]
     },
     "execution_count": 27,
     "metadata": {},
     "output_type": "execute_result"
    }
   ],
   "source": [
    "y_test"
   ]
  },
  {
   "cell_type": "code",
   "execution_count": 28,
   "metadata": {},
   "outputs": [
    {
     "data": {
      "text/plain": [
       "array([[434.4963 ],\n",
       "       [440.8289 ],\n",
       "       [470.35477],\n",
       "       ...,\n",
       "       [461.31876],\n",
       "       [484.25854],\n",
       "       [457.90683]], dtype=float32)"
      ]
     },
     "execution_count": 28,
     "metadata": {},
     "output_type": "execute_result"
    }
   ],
   "source": [
    "y_pred1"
   ]
  },
  {
   "cell_type": "code",
   "execution_count": 29,
   "metadata": {},
   "outputs": [],
   "source": [
    "from sklearn.metrics import r2_score\n",
    "accuracy1 = r2_score(y_test,y_pred1)"
   ]
  },
  {
   "cell_type": "code",
   "execution_count": 30,
   "metadata": {},
   "outputs": [
    {
     "data": {
      "text/plain": [
       "0.902936827925405"
      ]
     },
     "execution_count": 30,
     "metadata": {},
     "output_type": "execute_result"
    }
   ],
   "source": [
    "accuracy1"
   ]
  },
  {
   "cell_type": "code",
   "execution_count": 31,
   "metadata": {},
   "outputs": [],
   "source": [
    "regressor.save('electric.h5')"
   ]
  },
  {
   "cell_type": "code",
   "execution_count": 32,
   "metadata": {},
   "outputs": [
    {
     "data": {
      "text/plain": [
       "array([[443.81635]], dtype=float32)"
      ]
     },
     "execution_count": 32,
     "metadata": {},
     "output_type": "execute_result"
    }
   ],
   "source": [
    "regressor.predict(np.array([[ 25.87,   57.32, 1012.06,   44.13]]))"
   ]
  },
  {
   "cell_type": "markdown",
   "metadata": {},
   "source": [
    "# Model has been created and saved"
   ]
  }
 ],
 "metadata": {
  "kernelspec": {
   "display_name": "Python 3",
   "language": "python",
   "name": "python3"
  },
  "language_info": {
   "codemirror_mode": {
    "name": "ipython",
    "version": 3
   },
   "file_extension": ".py",
   "mimetype": "text/x-python",
   "name": "python",
   "nbconvert_exporter": "python",
   "pygments_lexer": "ipython3",
   "version": "3.7.6"
  }
 },
 "nbformat": 4,
 "nbformat_minor": 2
}
